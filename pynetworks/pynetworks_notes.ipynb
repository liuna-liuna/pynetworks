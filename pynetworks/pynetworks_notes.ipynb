{
 "cells": [
  {
   "cell_type": "markdown",
   "metadata": {
    "collapsed": true
   },
   "source": [
    "*pynetworks_notes*"
   ]
  },
  {
   "cell_type": "heading",
   "metadata": {},
   "level": 1,
   "source": [
    "Chapter 1. 客户端/服务器网络编程简介"
   ]
  },
  {
   "cell_type": "markdown",
   "metadata": {},
   "source": [
    "## 概念\n",
    "1. 协议栈 protocol stack\n",
    "\t\t复杂的网络服务建立在简单网络服务的基础之上。\n",
    "\n",
    "2. 经常需要使用之前编写过的 Python库（library)，包括Python 内置的标准库以及下载安装的第三方库，来解析要使用的网络通信协议。\n",
    "\n",
    "### 例子1. 获取一个地址的经纬度\n",
    "- 用 pygeocoder库 实现\n",
    "\t\t高层的代码描述了查询的意义。\n",
    "```\n",
    "ADDRESS = 'Mountain View, CA'\n",
    "from pygeocoder import Geocoder\n",
    "import os\n",
    "\n",
    "print(Geocoder(api_key=os.environ['GOOGLE_API_KEY']).geocode(address=ADDRESS)[0].coordinates)\n",
    "```\n",
    "<br>\n",
    "\n",
    "- 用 requests库 实现\n",
    "\t\t底层的代码展示了查询的构造细节\n",
    "```\n",
    "ADDRESS = 'Mountain View, CA'\n",
    "\n",
    "GOOGLE_MAPS_BASE = 'https://maps.google.com/maps/api/geocode/json?key={}'\n",
    "\n",
    "import requests, os\n",
    "\n",
    "params = {'address': ADDRESS, 'sensor': 'false'}\n",
    "\n",
    "response = requests.get(GOOGLE_MAPS_BASE.format(os.environ['GOOGLE_API_KEY']), params=params)\n",
    "\n",
    "answer = response.json()\n",
    "\n",
    "print(answer['results'][0]['geometry']['location'])\n",
    "\n",
    "\n",
    "```\n",
    "\n",
    "<br>\n",
    "\n"
   ]
  },
  {
   "cell_type": "code",
   "execution_count": null,
   "metadata": {},
   "outputs": [],
   "source": []
  }
 ],
 "metadata": {
  "kernelspec": {
   "display_name": "Python 2",
   "language": "python",
   "name": "python2"
  },
  "language_info": {
   "codemirror_mode": {
    "name": "ipython",
    "version": 2
   },
   "file_extension": ".py",
   "mimetype": "text/x-python",
   "name": "python",
   "nbconvert_exporter": "python",
   "pygments_lexer": "ipython2",
   "version": "2.7.6"
  }
 },
 "nbformat": 4,
 "nbformat_minor": 0
}
